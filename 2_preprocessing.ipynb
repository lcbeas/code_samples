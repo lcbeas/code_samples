{
 "cells": [
  {
   "cell_type": "code",
   "execution_count": 2,
   "metadata": {},
   "outputs": [],
   "source": [
    "import pandas as pd \n",
    "import numpy as np \n",
    "from sklearn.preprocessing import StandardScaler\n",
    "from scipy import stats\n",
    "import matplotlib.pyplot as plt"
   ]
  },
  {
   "cell_type": "code",
   "execution_count": 3,
   "metadata": {},
   "outputs": [
    {
     "name": "stderr",
     "output_type": "stream",
     "text": [
      "C:\\Users\\Luke\\Anaconda3\\lib\\site-packages\\ipykernel_launcher.py:7: SettingWithCopyWarning: \n",
      "A value is trying to be set on a copy of a slice from a DataFrame.\n",
      "Try using .loc[row_indexer,col_indexer] = value instead\n",
      "\n",
      "See the caveats in the documentation: https://pandas.pydata.org/pandas-docs/stable/user_guide/indexing.html#returning-a-view-versus-a-copy\n",
      "  import sys\n",
      "C:\\Users\\Luke\\Anaconda3\\lib\\site-packages\\ipykernel_launcher.py:8: SettingWithCopyWarning: \n",
      "A value is trying to be set on a copy of a slice from a DataFrame.\n",
      "Try using .loc[row_indexer,col_indexer] = value instead\n",
      "\n",
      "See the caveats in the documentation: https://pandas.pydata.org/pandas-docs/stable/user_guide/indexing.html#returning-a-view-versus-a-copy\n",
      "  \n",
      "C:\\Users\\Luke\\Anaconda3\\lib\\site-packages\\ipykernel_launcher.py:10: SettingWithCopyWarning: \n",
      "A value is trying to be set on a copy of a slice from a DataFrame.\n",
      "Try using .loc[row_indexer,col_indexer] = value instead\n",
      "\n",
      "See the caveats in the documentation: https://pandas.pydata.org/pandas-docs/stable/user_guide/indexing.html#returning-a-view-versus-a-copy\n",
      "  # Remove the CWD from sys.path while we load stuff.\n",
      "C:\\Users\\Luke\\Anaconda3\\lib\\site-packages\\ipykernel_launcher.py:11: SettingWithCopyWarning: \n",
      "A value is trying to be set on a copy of a slice from a DataFrame.\n",
      "Try using .loc[row_indexer,col_indexer] = value instead\n",
      "\n",
      "See the caveats in the documentation: https://pandas.pydata.org/pandas-docs/stable/user_guide/indexing.html#returning-a-view-versus-a-copy\n",
      "  # This is added back by InteractiveShellApp.init_path()\n"
     ]
    }
   ],
   "source": [
    "real_data = pd.read_csv(\"C:/Users/Luke/OneDrive/Research/sg_data/sg_hole_14thru19_data_cavg.csv\").drop(['Unnamed: 0','Unnamed: 0.1'], axis = 1)\n",
    "\n",
    "train_data = real_data[real_data['year'] != 2019]\n",
    "\n",
    "test_data = real_data[real_data['year'] == 2019]\n",
    "\n",
    "train_data['p_idx'] = train_data.player.astype(\"category\").cat.codes\n",
    "train_data['c_idx'] = train_data.course_name.astype(\"category\").cat.codes\n",
    "\n",
    "test_data['p_idx'] = test_data.player.astype(\"category\").cat.codes\n",
    "test_data['c_idx'] = test_data.course_name.astype(\"category\").cat.codes\n"
   ]
  },
  {
   "cell_type": "code",
   "execution_count": 4,
   "metadata": {},
   "outputs": [],
   "source": [
    "train_data.to_csv(\"C:/Users/Luke/OneDrive/Research/sg_data/sg_hole_train.csv\")\n",
    "test_data.to_csv(\"C:/Users/Luke/OneDrive/Research/sg_data/sg_hole_test.csv\")\n"
   ]
  },
  {
   "cell_type": "markdown",
   "metadata": {},
   "source": [
    "***"
   ]
  },
  {
   "cell_type": "code",
   "execution_count": 6,
   "metadata": {},
   "outputs": [],
   "source": [
    "\n",
    "def create_weights(df):\n",
    "    plyrs = []\n",
    "    weights = []\n",
    "    n = len(df['p_idx'])\n",
    "    for plyr in pd.unique(df['p_idx']):\n",
    "        plyrs.append(plyr)\n",
    "        weights.append(len(df[df['p_idx'] == plyr])/n)\n",
    "    return plyrs, weights\n",
    "\n",
    "train_players, train_scaled_weights = create_weights(train_data)\n",
    "train_scaled_weights_df = pd.DataFrame({'p_idx': train_players, 'weight': train_scaled_weights}).sort_values(by=['p_idx']).set_index(np.arange(len(train_scaled_weights)))\n",
    "\n",
    "test_players, test_scaled_weights = create_weights(test_data)\n",
    "test_scaled_weights_df = pd.DataFrame({'p_idx': test_players, 'weight': test_scaled_weights}).sort_values(by=['p_idx']).set_index(np.arange(len(test_scaled_weights)))\n",
    "\n",
    "\n",
    "train_y_df = train_data[['p_idx','y_idx','yr_ind_14','yr_ind_15','yr_ind_16','yr_ind_17','yr_ind_18','yr_ind_19']].drop_duplicates()\n",
    "train_scaled_weights_df = pd.merge(train_scaled_weights_df, train_y_df, on = 'p_idx')[['p_idx','weight','y_idx','yr_ind_14','yr_ind_15','yr_ind_16','yr_ind_17','yr_ind_18','yr_ind_19']]\n",
    "\n",
    "test_y_df = test_data[['p_idx','y_idx','yr_ind_14','yr_ind_15','yr_ind_16','yr_ind_17','yr_ind_18','yr_ind_19']].drop_duplicates()\n",
    "test_scaled_weights_df = pd.merge(test_scaled_weights_df, test_y_df, on = 'p_idx')[['p_idx','weight','y_idx','yr_ind_14','yr_ind_15','yr_ind_16','yr_ind_17','yr_ind_18','yr_ind_19']]\n",
    "\n",
    "\n",
    "def create_course_weights(df):\n",
    "    weights = []\n",
    "    n = len(df['c_idx'])\n",
    "    for course in pd.unique(df['c_idx']):\n",
    "        weights.append(len(df[df['c_idx'] == course])/n)\n",
    "    return weights\n",
    "\n",
    "train_course_weights = create_course_weights(train_data)\n",
    "\n",
    "train_course_weights_df = pd.DataFrame({'course': pd.unique(train_data['course_name']),'c_idx': pd.unique(train_data['c_idx']), 'weight': train_course_weights}).sort_values(by=['c_idx']).set_index(np.arange(len(train_course_weights)))\n",
    "\n",
    "test_course_weights = create_course_weights(test_data)\n",
    "\n",
    "test_course_weights_df = pd.DataFrame({'course': pd.unique(test_data['course_name']),'c_idx': pd.unique(test_data['c_idx']), 'weight': test_course_weights}).sort_values(by=['c_idx']).set_index(np.arange(len(test_course_weights)))\n",
    "\n",
    "\n",
    "train_scaled_weights_df.to_csv('C:/Users/Luke/OneDrive/Research/sg_data/train_plyr_weights_0814.csv')\n",
    "train_course_weights_df.to_csv('C:/Users/Luke/OneDrive/Research/sg_data/train_course_weights_0814.csv')\n",
    "\n",
    "\n",
    "test_scaled_weights_df.to_csv('C:/Users/Luke/OneDrive/Research/sg_data/test_plyr_weights_0814.csv')\n",
    "test_course_weights_df.to_csv('C:/Users/Luke/OneDrive/Research/sg_data/train_course_weights_0814.csv')"
   ]
  }
 ],
 "metadata": {
  "kernelspec": {
   "display_name": "Python 3",
   "language": "python",
   "name": "python3"
  },
  "language_info": {
   "codemirror_mode": {
    "name": "ipython",
    "version": 3
   },
   "file_extension": ".py",
   "mimetype": "text/x-python",
   "name": "python",
   "nbconvert_exporter": "python",
   "pygments_lexer": "ipython3",
   "version": "3.7.6"
  }
 },
 "nbformat": 4,
 "nbformat_minor": 4
}
