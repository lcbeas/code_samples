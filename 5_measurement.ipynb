{
 "cells": [
  {
   "cell_type": "code",
   "execution_count": 1,
   "metadata": {},
   "outputs": [],
   "source": [
    "import pandas as pd\n",
    "import numpy as np\n",
    "\n",
    "import matplotlib.pyplot as plt\n",
    "from sklearn.metrics import mean_squared_error\n"
   ]
  },
  {
   "cell_type": "code",
   "execution_count": 2,
   "metadata": {},
   "outputs": [],
   "source": [
    "# data\n",
    "train_data = pd.read_csv(\"C:/Users/Luke/OneDrive/Research/sg_data/sg_hole_train.csv\")\n",
    "\n",
    "test_data = pd.read_csv(\"C:/Users/Luke/OneDrive/Research/sg_data/sg_hole_test.csv\")"
   ]
  },
  {
   "cell_type": "code",
   "execution_count": 3,
   "metadata": {},
   "outputs": [],
   "source": [
    "# nodsr estimates\n",
    "nodsr_p_ests = pd.read_csv('model_data/nodsr_p_ests_0814_train.csv')\n",
    "nodsr_c_ests = pd.read_csv('model_data/nodsr_c_ests_0814_train.csv')\n",
    "\n",
    "# dsr estimates\n",
    "dsr_p_ests = pd.read_csv('model_data/dsr_p_ests_0814_train.csv')\n",
    "dsr_c_ests = pd.read_csv('model_data/dsr_c_ests_0814_train.csv')\n",
    "dsr_d_ests = pd.read_csv('model_data/dsr_d_ests_0814_train.csv')"
   ]
  },
  {
   "cell_type": "code",
   "execution_count": 4,
   "metadata": {},
   "outputs": [],
   "source": [
    "nodsr_p_ests_avg = nodsr_p_ests.groupby(['plyr_year','p_y_idx']).mean().reset_index()\n",
    "nodsr_c_ests_avg = nodsr_c_ests.groupby(['course_name','c_idx']).mean().reset_index()\n",
    "\n",
    "\n",
    "dsr_p_ests_avg = dsr_p_ests.groupby(['plyr_year','p_y_idx']).mean().reset_index()\n",
    "dsr_c_ests_avg = dsr_c_ests.groupby(['course_name','c_idx']).mean().reset_index()\n",
    "dsr_d_ests_avg = dsr_d_ests.groupby(['course_name','c_idx']).mean().reset_index()"
   ]
  },
  {
   "cell_type": "code",
   "execution_count": 5,
   "metadata": {},
   "outputs": [
    {
     "name": "stdout",
     "output_type": "stream",
     "text": [
      "train shape:  (70669, 27)\n",
      "train shape:  (70669, 33)\n",
      "train shape:  (70669, 39)\n",
      "train shape:  (70669, 45)\n"
     ]
    }
   ],
   "source": [
    "print('train shape: ', train_data.shape)\n",
    "train_data_w_ests = pd.merge(train_data, nodsr_p_ests_avg, on = 'p_y_idx', suffixes = ['','_nodsr_plyr'])\n",
    "print('train shape: ', train_data_w_ests.shape)\n",
    "train_data_w_ests = pd.merge(train_data_w_ests, nodsr_c_ests_avg, on = 'c_idx', suffixes = ['','_nodsr_course'])\n",
    "\n",
    "print('train shape: ', train_data_w_ests.shape)\n",
    "train_data_w_ests = pd.merge(train_data_w_ests, dsr_p_ests_avg, on = 'p_y_idx', suffixes = ['','_dsr_plyr'])\n",
    "print('train shape: ', train_data_w_ests.shape)\n",
    "train_data_w_ests = pd.merge(train_data_w_ests, dsr_c_ests_avg, on = 'c_idx', suffixes = ['','_dsr_course'])\n",
    "train_data_w_ests = pd.merge(train_data_w_ests, dsr_d_ests_avg, on = 'c_idx', suffixes = ['','_dsr_course'])"
   ]
  },
  {
   "cell_type": "code",
   "execution_count": 6,
   "metadata": {},
   "outputs": [
    {
     "data": {
      "text/html": [
       "<div>\n",
       "<style scoped>\n",
       "    .dataframe tbody tr th:only-of-type {\n",
       "        vertical-align: middle;\n",
       "    }\n",
       "\n",
       "    .dataframe tbody tr th {\n",
       "        vertical-align: top;\n",
       "    }\n",
       "\n",
       "    .dataframe thead th {\n",
       "        text-align: right;\n",
       "    }\n",
       "</style>\n",
       "<table border=\"1\" class=\"dataframe\">\n",
       "  <thead>\n",
       "    <tr style=\"text-align: right;\">\n",
       "      <th></th>\n",
       "      <th>plyr_year</th>\n",
       "      <th>p_y_idx</th>\n",
       "      <th>sg_drive</th>\n",
       "      <th>sg_appr</th>\n",
       "      <th>sg_short</th>\n",
       "      <th>sg_putt</th>\n",
       "      <th>num_rounds</th>\n",
       "    </tr>\n",
       "  </thead>\n",
       "  <tbody>\n",
       "    <tr>\n",
       "      <th>0</th>\n",
       "      <td>(\"Adam D'Amario\", 2018)</td>\n",
       "      <td>19</td>\n",
       "      <td>-1.333300</td>\n",
       "      <td>-3.893122</td>\n",
       "      <td>-0.693278</td>\n",
       "      <td>-1.940855</td>\n",
       "      <td>2.0</td>\n",
       "    </tr>\n",
       "    <tr>\n",
       "      <th>1</th>\n",
       "      <td>(\"Bronson La'Cassie\", 2014)</td>\n",
       "      <td>422</td>\n",
       "      <td>-0.050633</td>\n",
       "      <td>-0.602725</td>\n",
       "      <td>0.149570</td>\n",
       "      <td>-0.133639</td>\n",
       "      <td>36.0</td>\n",
       "    </tr>\n",
       "    <tr>\n",
       "      <th>2</th>\n",
       "      <td>(\"Sam O'Dell\", 2015)</td>\n",
       "      <td>2375</td>\n",
       "      <td>-0.784407</td>\n",
       "      <td>-0.211334</td>\n",
       "      <td>-0.155453</td>\n",
       "      <td>0.097794</td>\n",
       "      <td>2.0</td>\n",
       "    </tr>\n",
       "    <tr>\n",
       "      <th>3</th>\n",
       "      <td>(\"Sam O'Dell\", 2018)</td>\n",
       "      <td>2376</td>\n",
       "      <td>0.577920</td>\n",
       "      <td>-1.653313</td>\n",
       "      <td>-2.091368</td>\n",
       "      <td>-1.190574</td>\n",
       "      <td>2.0</td>\n",
       "    </tr>\n",
       "    <tr>\n",
       "      <th>4</th>\n",
       "      <td>(\"Sean O'Hair\", 2014)</td>\n",
       "      <td>2447</td>\n",
       "      <td>0.109332</td>\n",
       "      <td>-0.532446</td>\n",
       "      <td>0.019670</td>\n",
       "      <td>0.064983</td>\n",
       "      <td>67.0</td>\n",
       "    </tr>\n",
       "    <tr>\n",
       "      <th>...</th>\n",
       "      <td>...</td>\n",
       "      <td>...</td>\n",
       "      <td>...</td>\n",
       "      <td>...</td>\n",
       "      <td>...</td>\n",
       "      <td>...</td>\n",
       "      <td>...</td>\n",
       "    </tr>\n",
       "    <tr>\n",
       "      <th>2429</th>\n",
       "      <td>('Zack Vervaecke', 2015)</td>\n",
       "      <td>2906</td>\n",
       "      <td>-0.922620</td>\n",
       "      <td>-2.254541</td>\n",
       "      <td>-0.250326</td>\n",
       "      <td>-0.172434</td>\n",
       "      <td>2.0</td>\n",
       "    </tr>\n",
       "    <tr>\n",
       "      <th>2430</th>\n",
       "      <td>('Zechariah Potter', 2015)</td>\n",
       "      <td>2907</td>\n",
       "      <td>-2.521448</td>\n",
       "      <td>-1.513633</td>\n",
       "      <td>0.588002</td>\n",
       "      <td>0.128880</td>\n",
       "      <td>2.0</td>\n",
       "    </tr>\n",
       "    <tr>\n",
       "      <th>2431</th>\n",
       "      <td>('Zecheng Dou', 2018)</td>\n",
       "      <td>2908</td>\n",
       "      <td>-0.155140</td>\n",
       "      <td>-0.361587</td>\n",
       "      <td>-0.204344</td>\n",
       "      <td>-0.724253</td>\n",
       "      <td>36.0</td>\n",
       "    </tr>\n",
       "    <tr>\n",
       "      <th>2432</th>\n",
       "      <td>('Ángel Cabrera', 2018)</td>\n",
       "      <td>2909</td>\n",
       "      <td>0.183059</td>\n",
       "      <td>-0.748187</td>\n",
       "      <td>-0.546637</td>\n",
       "      <td>-0.445941</td>\n",
       "      <td>7.0</td>\n",
       "    </tr>\n",
       "    <tr>\n",
       "      <th>2433</th>\n",
       "      <td>('Ã\\x81ngel Cabrera', 2017)</td>\n",
       "      <td>2910</td>\n",
       "      <td>-0.050002</td>\n",
       "      <td>-0.418371</td>\n",
       "      <td>-0.519594</td>\n",
       "      <td>0.180831</td>\n",
       "      <td>23.0</td>\n",
       "    </tr>\n",
       "  </tbody>\n",
       "</table>\n",
       "<p>2434 rows × 7 columns</p>\n",
       "</div>"
      ],
      "text/plain": [
       "                        plyr_year  p_y_idx  sg_drive   sg_appr  sg_short  \\\n",
       "0         (\"Adam D'Amario\", 2018)       19 -1.333300 -3.893122 -0.693278   \n",
       "1     (\"Bronson La'Cassie\", 2014)      422 -0.050633 -0.602725  0.149570   \n",
       "2            (\"Sam O'Dell\", 2015)     2375 -0.784407 -0.211334 -0.155453   \n",
       "3            (\"Sam O'Dell\", 2018)     2376  0.577920 -1.653313 -2.091368   \n",
       "4           (\"Sean O'Hair\", 2014)     2447  0.109332 -0.532446  0.019670   \n",
       "...                           ...      ...       ...       ...       ...   \n",
       "2429     ('Zack Vervaecke', 2015)     2906 -0.922620 -2.254541 -0.250326   \n",
       "2430   ('Zechariah Potter', 2015)     2907 -2.521448 -1.513633  0.588002   \n",
       "2431        ('Zecheng Dou', 2018)     2908 -0.155140 -0.361587 -0.204344   \n",
       "2432      ('Ángel Cabrera', 2018)     2909  0.183059 -0.748187 -0.546637   \n",
       "2433  ('Ã\\x81ngel Cabrera', 2017)     2910 -0.050002 -0.418371 -0.519594   \n",
       "\n",
       "       sg_putt  num_rounds  \n",
       "0    -1.940855         2.0  \n",
       "1    -0.133639        36.0  \n",
       "2     0.097794         2.0  \n",
       "3    -1.190574         2.0  \n",
       "4     0.064983        67.0  \n",
       "...        ...         ...  \n",
       "2429 -0.172434         2.0  \n",
       "2430  0.128880         2.0  \n",
       "2431 -0.724253        36.0  \n",
       "2432 -0.445941         7.0  \n",
       "2433  0.180831        23.0  \n",
       "\n",
       "[2434 rows x 7 columns]"
      ]
     },
     "execution_count": 6,
     "metadata": {},
     "output_type": "execute_result"
    }
   ],
   "source": [
    "nodsr_p_ests_avg"
   ]
  },
  {
   "cell_type": "code",
   "execution_count": 7,
   "metadata": {},
   "outputs": [
    {
     "name": "stdout",
     "output_type": "stream",
     "text": [
      "test shape:  (12952, 27)\n",
      "test shape:  (12952, 35)\n",
      "test shape:  (12952, 41)\n",
      "test shape:  (12952, 49)\n"
     ]
    }
   ],
   "source": [
    "nodsr_p_ests_avg['plyr_year_new'] = nodsr_p_ests_avg['plyr_year'].apply(lambda row: row[:-5] + '2019)' if row[-5:] == '2018)' else row)\n",
    "dsr_p_ests_avg['plyr_year_new'] = dsr_p_ests_avg['plyr_year'].apply(lambda row: row[:-5] + '2019)' if row[-5:] == '2018)' else row)\n",
    "\n",
    "print('test shape: ', test_data.shape)\n",
    "test_data_w_ests = pd.merge(test_data, nodsr_p_ests_avg, how = 'left', left_on = 'plyr_year', right_on = 'plyr_year_new', suffixes = ['','_nodsr_plyr'])\n",
    "print('test shape: ', test_data_w_ests.shape)\n",
    "test_data_w_ests = pd.merge(test_data_w_ests, nodsr_c_ests_avg, how = 'left', on = 'c_idx', suffixes = ['','_nodsr_course'])\n",
    "\n",
    "print('test shape: ', test_data_w_ests.shape)\n",
    "test_data_w_ests = pd.merge(test_data_w_ests, dsr_p_ests_avg,  how = 'left', left_on = 'plyr_year', right_on = 'plyr_year_new', suffixes = ['','_dsr_plyr'])\n",
    "print('test shape: ', test_data_w_ests.shape)\n",
    "test_data_w_ests = pd.merge(test_data_w_ests, dsr_c_ests_avg, how = 'left', on = 'c_idx', suffixes = ['','_dsr_course'])\n",
    "test_data_w_ests = pd.merge(test_data_w_ests, dsr_d_ests_avg, how = 'left', on = 'c_idx', suffixes = ['','_dsr_course'])"
   ]
  },
  {
   "cell_type": "code",
   "execution_count": 8,
   "metadata": {},
   "outputs": [],
   "source": [
    "train_data_w_ests['nodsr_drive_est'] = train_data_w_ests['sg_drive'] + train_data_w_ests['sg_drive_nodsr_course']\n",
    "train_data_w_ests['nodsr_appr_est'] = train_data_w_ests['sg_appr'] + train_data_w_ests['sg_appr_nodsr_course']\n",
    "train_data_w_ests['nodsr_short_est'] = train_data_w_ests['sg_short'] + train_data_w_ests['sg_short_nodsr_course']\n",
    "train_data_w_ests['nodsr_putt_est'] = train_data_w_ests['sg_putt'] + train_data_w_ests['sg_putt_nodsr_course']\n",
    "train_data_w_ests['nodsr_total_est'] = train_data_w_ests['nodsr_drive_est'] + train_data_w_ests['nodsr_appr_est'] + train_data_w_ests['nodsr_short_est'] + train_data_w_ests['nodsr_putt_est']\n",
    "\n",
    "train_data_w_ests['dsr_drive_est'] = train_data_w_ests['sg_drive_dsr_plyr']*train_data_w_ests['dsr_drive'] + train_data_w_ests['sg_drive_dsr_course']\n",
    "train_data_w_ests['dsr_appr_est'] = train_data_w_ests['sg_appr_dsr_plyr']*train_data_w_ests['dsr_appr'] + train_data_w_ests['sg_appr_dsr_course']\n",
    "train_data_w_ests['dsr_short_est'] = train_data_w_ests['sg_short_dsr_plyr']*train_data_w_ests['dsr_short'] + train_data_w_ests['sg_short_dsr_course']\n",
    "train_data_w_ests['dsr_putt_est'] = train_data_w_ests['sg_putt_dsr_plyr']*train_data_w_ests['dsr_putt'] + train_data_w_ests['sg_putt_dsr_course']\n",
    "train_data_w_ests['dsr_total_est'] = train_data_w_ests['dsr_drive_est'] + train_data_w_ests['dsr_appr_est'] + train_data_w_ests['dsr_short_est'] + train_data_w_ests['dsr_putt_est']\n",
    "\n",
    "train_data_w_ests['SG_total'] = train_data_w_ests['SG_drive'] + train_data_w_ests['SG_appr'] + train_data_w_ests['SG_short'] + train_data_w_ests['SG_putt']\n"
   ]
  },
  {
   "cell_type": "code",
   "execution_count": 9,
   "metadata": {},
   "outputs": [],
   "source": [
    "test_data_w_ests['nodsr_drive_est'] = test_data_w_ests['sg_drive'] + test_data_w_ests['sg_drive_nodsr_course']\n",
    "test_data_w_ests['nodsr_appr_est'] = test_data_w_ests['sg_appr'] + test_data_w_ests['sg_appr_nodsr_course']\n",
    "test_data_w_ests['nodsr_short_est'] = test_data_w_ests['sg_short'] + test_data_w_ests['sg_short_nodsr_course']\n",
    "test_data_w_ests['nodsr_putt_est'] = test_data_w_ests['sg_putt'] + test_data_w_ests['sg_putt_nodsr_course']\n",
    "test_data_w_ests['nodsr_total_est'] = test_data_w_ests['nodsr_drive_est'] + test_data_w_ests['nodsr_appr_est'] + test_data_w_ests['nodsr_short_est'] + test_data_w_ests['nodsr_putt_est']\n",
    "\n",
    "test_data_w_ests['dsr_drive_est'] = test_data_w_ests['sg_drive_dsr_plyr']*test_data_w_ests['dsr_drive'] + test_data_w_ests['sg_drive_dsr_course']\n",
    "test_data_w_ests['dsr_appr_est'] = test_data_w_ests['sg_appr_dsr_plyr']*test_data_w_ests['dsr_appr'] + test_data_w_ests['sg_appr_dsr_course']\n",
    "test_data_w_ests['dsr_short_est'] = test_data_w_ests['sg_short_dsr_plyr']*test_data_w_ests['dsr_short'] + test_data_w_ests['sg_short_dsr_course']\n",
    "test_data_w_ests['dsr_putt_est'] = test_data_w_ests['sg_putt_dsr_plyr']*test_data_w_ests['dsr_putt'] + test_data_w_ests['sg_putt_dsr_course']\n",
    "test_data_w_ests['dsr_total_est'] = test_data_w_ests['dsr_drive_est'] + test_data_w_ests['dsr_appr_est'] + test_data_w_ests['dsr_short_est'] + test_data_w_ests['dsr_putt_est']\n",
    "\n",
    "test_data_w_ests['SG_total'] = test_data_w_ests['SG_drive'] + test_data_w_ests['SG_appr'] + test_data_w_ests['SG_short'] + test_data_w_ests['SG_putt']\n"
   ]
  },
  {
   "cell_type": "code",
   "execution_count": 10,
   "metadata": {},
   "outputs": [
    {
     "name": "stdout",
     "output_type": "stream",
     "text": [
      "TRAINING DATA\n",
      "NODSR TOTAL:  2.745254099819849\n",
      "DSR TOTAL:  2.7428838760334813\n",
      "\n",
      "NODSR DRIVE:  1.0818811351596005\n",
      "DSR DRIVE:  1.081299758586981\n",
      "\n",
      "NODSR APPR:  1.5751761586227915\n",
      "DSR APPR:  1.573544598977392\n",
      "\n",
      "NODSR SHORT:  1.0791059492612973\n",
      "DSR SHORT:  1.0780058651518838\n",
      "\n",
      "NODSR PUTT:  1.6749732633970051\n",
      "DSR PUTT:  1.673580843393714\n"
     ]
    }
   ],
   "source": [
    "print('TRAINING DATA')\n",
    "print('NODSR TOTAL: ', mean_squared_error(train_data_w_ests['nodsr_total_est'], train_data_w_ests['SG_total'], squared = False))\n",
    "print('DSR TOTAL: ', mean_squared_error(train_data_w_ests['dsr_total_est'], train_data_w_ests['SG_total'], squared = False))\n",
    "print()\n",
    "print('NODSR DRIVE: ', mean_squared_error(train_data_w_ests['nodsr_drive_est'], train_data_w_ests['SG_drive'], squared = False))\n",
    "print('DSR DRIVE: ', mean_squared_error(train_data_w_ests['dsr_drive_est'], train_data_w_ests['SG_drive'], squared = False))\n",
    "print()\n",
    "print('NODSR APPR: ', mean_squared_error(train_data_w_ests['nodsr_appr_est'], train_data_w_ests['SG_appr'], squared = False))\n",
    "print('DSR APPR: ', mean_squared_error(train_data_w_ests['dsr_appr_est'], train_data_w_ests['SG_appr'], squared = False))\n",
    "\n",
    "print()\n",
    "print('NODSR SHORT: ', mean_squared_error(train_data_w_ests['nodsr_short_est'], train_data_w_ests['SG_short'], squared = False))\n",
    "print('DSR SHORT: ', mean_squared_error(train_data_w_ests['dsr_short_est'], train_data_w_ests['SG_short'], squared = False))\n",
    "print()\n",
    "print('NODSR PUTT: ', mean_squared_error(train_data_w_ests['nodsr_putt_est'], train_data_w_ests['SG_putt'], squared = False))\n",
    "print('DSR PUTT: ', mean_squared_error(train_data_w_ests['dsr_putt_est'], train_data_w_ests['SG_putt'], squared = False))\n"
   ]
  },
  {
   "cell_type": "code",
   "execution_count": 11,
   "metadata": {},
   "outputs": [],
   "source": [
    "test_data_w_ests = test_data_w_ests.dropna()"
   ]
  },
  {
   "cell_type": "code",
   "execution_count": 12,
   "metadata": {},
   "outputs": [
    {
     "name": "stdout",
     "output_type": "stream",
     "text": [
      "TESTING DATA\n",
      "NODSR TOTAL:  2.909703153896128\n",
      "DSR TOTAL:  2.917754184688774\n",
      "\n",
      "NODSR DRIVE:  1.1686584017895498\n",
      "DSR DRIVE:  1.1685132868240624\n",
      "\n",
      "NODSR APPR:  1.5963319531946805\n",
      "DSR APPR:  1.6033147151529041\n",
      "\n",
      "NODSR SHORT:  1.1073499292018807\n",
      "DSR SHORT:  1.1129201011198704\n",
      "\n",
      "NODSR PUTT:  1.7736115019969927\n",
      "DSR PUTT:  1.7722333023412236\n"
     ]
    }
   ],
   "source": [
    "print('TESTING DATA')\n",
    "print('NODSR TOTAL: ', mean_squared_error(test_data_w_ests['nodsr_total_est'], test_data_w_ests['SG_total'], squared = False))\n",
    "print('DSR TOTAL: ', mean_squared_error(test_data_w_ests['dsr_total_est'], test_data_w_ests['SG_total'], squared = False))\n",
    "print()\n",
    "print('NODSR DRIVE: ', mean_squared_error(test_data_w_ests['nodsr_drive_est'], test_data_w_ests['SG_drive'], squared = False))\n",
    "print('DSR DRIVE: ', mean_squared_error(test_data_w_ests['dsr_drive_est'], test_data_w_ests['SG_drive'], squared = False))\n",
    "print()\n",
    "print('NODSR APPR: ', mean_squared_error(test_data_w_ests['nodsr_appr_est'], test_data_w_ests['SG_appr'], squared = False))\n",
    "print('DSR APPR: ', mean_squared_error(test_data_w_ests['dsr_appr_est'], test_data_w_ests['SG_appr'], squared = False))\n",
    "\n",
    "print()\n",
    "print('NODSR SHORT: ', mean_squared_error(test_data_w_ests['nodsr_short_est'], test_data_w_ests['SG_short'], squared = False))\n",
    "print('DSR SHORT: ', mean_squared_error(test_data_w_ests['dsr_short_est'], test_data_w_ests['SG_short'], squared = False))\n",
    "print()\n",
    "print('NODSR PUTT: ', mean_squared_error(test_data_w_ests['nodsr_putt_est'], test_data_w_ests['SG_putt'], squared = False))\n",
    "print('DSR PUTT: ', mean_squared_error(test_data_w_ests['dsr_putt_est'], test_data_w_ests['SG_putt'], squared = False))\n"
   ]
  }
 ],
 "metadata": {
  "kernelspec": {
   "display_name": "Python 3",
   "language": "python",
   "name": "python3"
  },
  "language_info": {
   "codemirror_mode": {
    "name": "ipython",
    "version": 3
   },
   "file_extension": ".py",
   "mimetype": "text/x-python",
   "name": "python",
   "nbconvert_exporter": "python",
   "pygments_lexer": "ipython3",
   "version": "3.7.6"
  }
 },
 "nbformat": 4,
 "nbformat_minor": 4
}
